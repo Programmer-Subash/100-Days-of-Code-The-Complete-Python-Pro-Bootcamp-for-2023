{
 "cells": [
  {
   "cell_type": "code",
   "execution_count": 7,
   "id": "80077ebf-a8d8-40de-9b03-fd7c0f8bbf09",
   "metadata": {},
   "outputs": [],
   "source": [
    "class Animal:\n",
    "    def __init__(self):\n",
    "        self.eyes = 2\n",
    "    def breathe(self):\n",
    "        print(\"inhale,outhale\")"
   ]
  },
  {
   "cell_type": "code",
   "execution_count": 15,
   "id": "4f095dd4-6696-4b9b-9203-6c0a1d36a9d6",
   "metadata": {},
   "outputs": [],
   "source": [
    "class Fish(Animal):\n",
    "    def __init__(self):\n",
    "        super().__init__()\n",
    "    def breathe(self):\n",
    "        super().breathe()\n",
    "        print(\"under water\")"
   ]
  },
  {
   "cell_type": "code",
   "execution_count": 16,
   "id": "876469a8-333f-4b9c-b647-f47911318814",
   "metadata": {},
   "outputs": [
    {
     "name": "stdout",
     "output_type": "stream",
     "text": [
      "inhale,outhale\n",
      "under water\n"
     ]
    }
   ],
   "source": [
    "fish = Fish()\n",
    "fish.breathe()"
   ]
  },
  {
   "cell_type": "code",
   "execution_count": null,
   "id": "da282049-b82d-4df3-b900-bc7fe238fb16",
   "metadata": {},
   "outputs": [],
   "source": []
  }
 ],
 "metadata": {
  "kernelspec": {
   "display_name": "Python 3 (ipykernel)",
   "language": "python",
   "name": "python3"
  },
  "language_info": {
   "codemirror_mode": {
    "name": "ipython",
    "version": 3
   },
   "file_extension": ".py",
   "mimetype": "text/x-python",
   "name": "python",
   "nbconvert_exporter": "python",
   "pygments_lexer": "ipython3",
   "version": "3.10.12"
  }
 },
 "nbformat": 4,
 "nbformat_minor": 5
}
