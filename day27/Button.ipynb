{
 "cells": [
  {
   "cell_type": "code",
   "execution_count": 1,
   "id": "2435b1d3-28c0-4340-ac28-462ba0d37c7f",
   "metadata": {},
   "outputs": [],
   "source": [
    "import tkinter as tk"
   ]
  },
  {
   "cell_type": "code",
   "execution_count": 2,
   "id": "800b559f-e292-44ee-96ae-b4091decfe1e",
   "metadata": {},
   "outputs": [],
   "source": [
    "window = tk.Tk()\n",
    "window.minsize(width=600,height=600)"
   ]
  },
  {
   "cell_type": "code",
   "execution_count": 3,
   "id": "0eb02ae4-8a28-4cc1-9428-478c8090d7b4",
   "metadata": {},
   "outputs": [],
   "source": [
    "button_state_label = tk.Label(text=\"Button Not click\")\n",
    "button_state_label.pack()"
   ]
  },
  {
   "cell_type": "code",
   "execution_count": 4,
   "id": "5af7497a-cfd1-4166-af52-1b4892139333",
   "metadata": {},
   "outputs": [],
   "source": [
    "input = tk.Entry(width=50)\n",
    "input.pack()"
   ]
  },
  {
   "cell_type": "code",
   "execution_count": 5,
   "id": "29c10bbb-ff33-493b-9644-5e53407d9293",
   "metadata": {},
   "outputs": [],
   "source": [
    "def change_button_state():\n",
    "    button_state_label[\"text\"] = input.get()"
   ]
  },
  {
   "cell_type": "code",
   "execution_count": 6,
   "id": "abc31755-2bb7-455e-8cf3-0d08bbac48d8",
   "metadata": {},
   "outputs": [],
   "source": [
    "button = tk.Button(text=\"Click me\",command=change_button_state)\n",
    "button.pack()"
   ]
  },
  {
   "cell_type": "code",
   "execution_count": 7,
   "id": "a071b553-ca2e-411d-afc9-c21e1ee5f263",
   "metadata": {},
   "outputs": [],
   "source": [
    "window.mainloop()"
   ]
  },
  {
   "cell_type": "code",
   "execution_count": null,
   "id": "4f25110f-1f5a-4fed-8ca8-96bb30a7b1b7",
   "metadata": {},
   "outputs": [],
   "source": []
  }
 ],
 "metadata": {
  "kernelspec": {
   "display_name": "Python 3 (ipykernel)",
   "language": "python",
   "name": "python3"
  },
  "language_info": {
   "codemirror_mode": {
    "name": "ipython",
    "version": 3
   },
   "file_extension": ".py",
   "mimetype": "text/x-python",
   "name": "python",
   "nbconvert_exporter": "python",
   "pygments_lexer": "ipython3",
   "version": "3.10.12"
  }
 },
 "nbformat": 4,
 "nbformat_minor": 5
}
