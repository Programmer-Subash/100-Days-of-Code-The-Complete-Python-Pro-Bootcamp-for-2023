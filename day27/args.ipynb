{
 "cells": [
  {
   "cell_type": "code",
   "execution_count": 9,
   "id": "2acf5517-2e5f-4a6c-826f-a5e23a5c9eba",
   "metadata": {},
   "outputs": [],
   "source": [
    "def add(*args):\n",
    "    sum =0\n",
    "    for i in args:\n",
    "        sum+= i\n",
    "    return sum\n"
   ]
  },
  {
   "cell_type": "code",
   "execution_count": 10,
   "id": "2de305dc-7986-43c3-99ed-e821e9b9729a",
   "metadata": {},
   "outputs": [
    {
     "name": "stdout",
     "output_type": "stream",
     "text": [
      "45\n"
     ]
    }
   ],
   "source": [
    "print(add(1,2,3,4,5,6,7,8,9))"
   ]
  },
  {
   "cell_type": "code",
   "execution_count": 16,
   "id": "d24e4546-65f5-4472-9a0f-aee11bd0546d",
   "metadata": {},
   "outputs": [],
   "source": [
    "def calculate(n,**kwargs):\n",
    "    return (n+kwargs[\"add\"])*kwargs[\"mul\"]"
   ]
  },
  {
   "cell_type": "code",
   "execution_count": 17,
   "id": "c4fbbbe7-ee10-451d-838a-add37a941840",
   "metadata": {},
   "outputs": [
    {
     "data": {
      "text/plain": [
       "15"
      ]
     },
     "execution_count": 17,
     "metadata": {},
     "output_type": "execute_result"
    }
   ],
   "source": [
    "calculate(3,add=2,mul=3)"
   ]
  },
  {
   "cell_type": "code",
   "execution_count": 18,
   "id": "4a865f56-b16e-484f-b9d9-715075929749",
   "metadata": {},
   "outputs": [],
   "source": [
    "class Car:\n",
    "    def __init__(self,**kwargs):\n",
    "        self.maker = kwargs.get(\"maker\")\n",
    "        self.model = kwargs.get(\"model\")\n",
    "        self.seat = kwargs.get(\"seat\")\n",
    "        "
   ]
  },
  {
   "cell_type": "code",
   "execution_count": 19,
   "id": "9a51b79e-8be6-41a0-a4b0-3fef38ef713d",
   "metadata": {},
   "outputs": [],
   "source": [
    "car = Car(model=\"Lam\",seat=2)"
   ]
  },
  {
   "cell_type": "code",
   "execution_count": 22,
   "id": "4390a7be-f340-49e1-94eb-1aa81ecd3659",
   "metadata": {},
   "outputs": [
    {
     "name": "stdout",
     "output_type": "stream",
     "text": [
      "None Lam 2\n"
     ]
    }
   ],
   "source": [
    "print(car.maker,car.model,car.seat)"
   ]
  },
  {
   "cell_type": "code",
   "execution_count": null,
   "id": "b63ff44b-4e16-4dcd-9dd9-5f00c7df0a12",
   "metadata": {},
   "outputs": [],
   "source": []
  }
 ],
 "metadata": {
  "kernelspec": {
   "display_name": "Python 3 (ipykernel)",
   "language": "python",
   "name": "python3"
  },
  "language_info": {
   "codemirror_mode": {
    "name": "ipython",
    "version": 3
   },
   "file_extension": ".py",
   "mimetype": "text/x-python",
   "name": "python",
   "nbconvert_exporter": "python",
   "pygments_lexer": "ipython3",
   "version": "3.10.12"
  }
 },
 "nbformat": 4,
 "nbformat_minor": 5
}
