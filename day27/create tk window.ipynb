{
 "cells": [
  {
   "cell_type": "code",
   "execution_count": 1,
   "id": "cebab8f2-9b31-4563-bdf9-1a8d4ba70ed7",
   "metadata": {},
   "outputs": [],
   "source": [
    "import tkinter as tk"
   ]
  },
  {
   "cell_type": "code",
   "execution_count": 2,
   "id": "3541b0d2-4f13-4c27-bfd9-0cce0c1a7766",
   "metadata": {},
   "outputs": [],
   "source": [
    "window = tk.Tk()\n",
    "window.title(\"Personal Details\")\n",
    "window.minsize(width=600,height=600)"
   ]
  },
  {
   "cell_type": "code",
   "execution_count": 3,
   "id": "7f7c50b6-e2da-4d32-bd9c-a10616015e58",
   "metadata": {},
   "outputs": [],
   "source": [
    "frame1 = tk.Frame(window)\n",
    "frame1.pack(fill=\"x\")\n",
    "\n",
    "label_name = tk.Label(frame1,text=\"What is your name\")\n",
    "label_name.pack(side=\"left\")\n",
    "\n",
    "frame2 = tk.Frame(window)\n",
    "frame2.pack(fill=\"x\")\n",
    "\n",
    "label_age = tk.Label(frame2,text=\"Age\")\n",
    "label_age.pack(side=\"left\",padx=20)\n",
    "\n",
    "label_phone_no = tk.Label(frame2,text=\"Phone number\")\n",
    "label_phone_no.pack(side=\"left\")"
   ]
  },
  {
   "cell_type": "code",
   "execution_count": 4,
   "id": "ace2ccce-3db0-4dc7-b6f5-99157cc54369",
   "metadata": {},
   "outputs": [],
   "source": [
    "window.mainloop()"
   ]
  }
 ],
 "metadata": {
  "kernelspec": {
   "display_name": "Python 3 (ipykernel)",
   "language": "python",
   "name": "python3"
  },
  "language_info": {
   "codemirror_mode": {
    "name": "ipython",
    "version": 3
   },
   "file_extension": ".py",
   "mimetype": "text/x-python",
   "name": "python",
   "nbconvert_exporter": "python",
   "pygments_lexer": "ipython3",
   "version": "3.10.12"
  }
 },
 "nbformat": 4,
 "nbformat_minor": 5
}
