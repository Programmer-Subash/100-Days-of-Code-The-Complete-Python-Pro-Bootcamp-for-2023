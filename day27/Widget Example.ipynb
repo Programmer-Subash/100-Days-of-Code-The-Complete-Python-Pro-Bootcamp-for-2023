{
 "cells": [
  {
   "cell_type": "code",
   "execution_count": 1,
   "id": "3f1eb934-2fcc-4c59-be6d-76b771774d26",
   "metadata": {},
   "outputs": [],
   "source": [
    "import tkinter as tk"
   ]
  },
  {
   "cell_type": "code",
   "execution_count": 2,
   "id": "f113ce12-8863-45bb-92d7-00b141d95855",
   "metadata": {},
   "outputs": [],
   "source": [
    "window = tk.Tk()\n",
    "window.title(\"Widget Example\")\n",
    "window.minsize(width=600,height=600)"
   ]
  },
  {
   "cell_type": "code",
   "execution_count": 3,
   "id": "bfcbf97c-e4d6-4cd8-a23c-ebfca2d09a21",
   "metadata": {},
   "outputs": [],
   "source": [
    "heading_label = tk.Label(text=\"This is new Text\")\n",
    "heading_label.pack()"
   ]
  },
  {
   "cell_type": "code",
   "execution_count": 4,
   "id": "b982ddf8-f3b4-44f6-bc5b-ee389683dc59",
   "metadata": {},
   "outputs": [],
   "source": [
    "def change_heading_label():\n",
    "    heading_label[\"text\"]=\"Button is clicked\"\n",
    "    \n",
    "button = tk.Button(text=\"Click me\",command=change_heading_label)\n",
    "button.pack()"
   ]
  },
  {
   "cell_type": "code",
   "execution_count": 5,
   "id": "936be89b-9280-4749-a799-501b73458924",
   "metadata": {},
   "outputs": [],
   "source": [
    "entry = tk.Entry(width=50)\n",
    "entry.insert(0,\"Some text to begin with.\")\n",
    "entry.pack()"
   ]
  },
  {
   "cell_type": "code",
   "execution_count": 6,
   "id": "4d0e0d70-368b-4f14-aa85-a7fbba2987f3",
   "metadata": {},
   "outputs": [],
   "source": [
    "text = tk.Text(width=30)\n",
    "text.insert(tk.INSERT,\"Example of multiline text entry\")\n",
    "text.pack()"
   ]
  },
  {
   "cell_type": "code",
   "execution_count": 7,
   "id": "68d07a24-6de7-424d-a7b1-154020574e99",
   "metadata": {},
   "outputs": [],
   "source": [
    "def show_fav(event=None):\n",
    "    if is_on.get() == \"ON\":\n",
    "       if option.get()==1:        \n",
    "           footer_label['text']=charac[int(spinbox.get())]\n",
    "       else:\n",
    "            footer_label['text'] = charac[int(slider.get())]\n",
    "    else:\n",
    "        footer_label['text'] = \"\""
   ]
  },
  {
   "cell_type": "code",
   "execution_count": 8,
   "id": "ea9a41e5-8f89-4993-913e-3b98da3138d4",
   "metadata": {},
   "outputs": [],
   "source": [
    "spinbox = tk.Spinbox(from_=0,to=4,width=5,command=show_fav)\n",
    "spinbox.pack()"
   ]
  },
  {
   "cell_type": "code",
   "execution_count": 9,
   "id": "aef9d2c1-10d4-4a08-921c-624776f4243a",
   "metadata": {},
   "outputs": [],
   "source": [
    "slider = tk.Scale(from_=0,to=4,command=show_fav)\n",
    "slider.pack()"
   ]
  },
  {
   "cell_type": "code",
   "execution_count": 10,
   "id": "bbc3a30d-b372-4e6e-8af6-6188750b710c",
   "metadata": {},
   "outputs": [],
   "source": [
    "charac = [\"Iron Man\",\"Deadpool\",\"Caption America\",\"Magneto\",\"Charles Xavier\"]\n",
    "is_on = tk.StringVar()        \n",
    "checkbox = tk.Checkbutton(text=\"is ON?\",variable=is_on,onvalue=\"ON\",offvalue=\"OFF\",command=show_fav)\n",
    "checkbox.pack()"
   ]
  },
  {
   "cell_type": "code",
   "execution_count": 11,
   "id": "3adfecb8-5ced-43aa-a957-d2615f9b5633",
   "metadata": {},
   "outputs": [],
   "source": [
    "option = tk.IntVar()\n",
    "option1 = tk.Radiobutton(text=\"option 1\",variable=option,value=1)\n",
    "option2 = tk.Radiobutton(text=\"option 2\",variable=option,value=2)\n",
    "option1.pack()\n",
    "option2.pack()"
   ]
  },
  {
   "cell_type": "code",
   "execution_count": 12,
   "id": "94ba51d6-967d-4dd8-a49d-a3fbc789654c",
   "metadata": {},
   "outputs": [],
   "source": [
    "listbox = tk.Listbox()\n",
    "listbox.insert(tk.END,*charac)\n",
    "listbox.pack()"
   ]
  },
  {
   "cell_type": "code",
   "execution_count": 13,
   "id": "196d5867-7b61-46df-a1d8-6b9c929175e8",
   "metadata": {},
   "outputs": [],
   "source": [
    "footer_label = tk.Label(text=\"\")\n",
    "footer_label.pack()"
   ]
  },
  {
   "cell_type": "code",
   "execution_count": 14,
   "id": "8a5e086a-da50-4752-9c34-ec33d99ecf48",
   "metadata": {},
   "outputs": [],
   "source": [
    "window.mainloop()"
   ]
  },
  {
   "cell_type": "code",
   "execution_count": null,
   "id": "01819a10-6747-4412-ad61-5885cd9dabf4",
   "metadata": {},
   "outputs": [],
   "source": []
  }
 ],
 "metadata": {
  "kernelspec": {
   "display_name": "Python 3 (ipykernel)",
   "language": "python",
   "name": "python3"
  },
  "language_info": {
   "codemirror_mode": {
    "name": "ipython",
    "version": 3
   },
   "file_extension": ".py",
   "mimetype": "text/x-python",
   "name": "python",
   "nbconvert_exporter": "python",
   "pygments_lexer": "ipython3",
   "version": "3.10.12"
  }
 },
 "nbformat": 4,
 "nbformat_minor": 5
}
