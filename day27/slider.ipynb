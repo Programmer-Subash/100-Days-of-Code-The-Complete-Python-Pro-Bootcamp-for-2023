{
 "cells": [
  {
   "cell_type": "code",
   "execution_count": 1,
   "id": "1a3e8ac0-ec7d-49e8-aab5-19777bfb9cc7",
   "metadata": {},
   "outputs": [],
   "source": [
    "import tkinter as tk"
   ]
  },
  {
   "cell_type": "code",
   "execution_count": 2,
   "id": "91cdbebf-a4a5-48e7-bbfd-3e010e499d2d",
   "metadata": {},
   "outputs": [],
   "source": [
    "window = tk.Tk()\n",
    "window.title(\"Learn Slider in Tkinter\")\n",
    "window.minsize(width = 600,height=600)"
   ]
  },
  {
   "cell_type": "code",
   "execution_count": 3,
   "id": "a7ea4568-c59a-4382-8834-ec7719910b76",
   "metadata": {},
   "outputs": [],
   "source": [
    "slider_hor = tk.Scale(window,from_=0,to=100,orient=\"horizontal\")\n",
    "slider_hor.pack()\n",
    "slider_ver = tk.Scale(window,from_=0,to=10000000000000000000000000000000000000)\n",
    "slider_ver.pack()"
   ]
  },
  {
   "cell_type": "code",
   "execution_count": 4,
   "id": "8c324e2f-29c9-401c-a852-1f9cc7138387",
   "metadata": {},
   "outputs": [],
   "source": [
    "window.mainloop()"
   ]
  },
  {
   "cell_type": "code",
   "execution_count": null,
   "id": "313bbe11-15a1-40b8-a676-305714a96615",
   "metadata": {},
   "outputs": [],
   "source": []
  }
 ],
 "metadata": {
  "kernelspec": {
   "display_name": "Python 3 (ipykernel)",
   "language": "python",
   "name": "python3"
  },
  "language_info": {
   "codemirror_mode": {
    "name": "ipython",
    "version": 3
   },
   "file_extension": ".py",
   "mimetype": "text/x-python",
   "name": "python",
   "nbconvert_exporter": "python",
   "pygments_lexer": "ipython3",
   "version": "3.10.12"
  }
 },
 "nbformat": 4,
 "nbformat_minor": 5
}
