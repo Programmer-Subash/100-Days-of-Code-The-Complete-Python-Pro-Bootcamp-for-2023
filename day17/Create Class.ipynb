{
 "cells": [
  {
   "cell_type": "code",
   "execution_count": 34,
   "id": "afc737b8-8ab4-4167-8e17-a60a082ac055",
   "metadata": {},
   "outputs": [],
   "source": [
    "class User:\n",
    "    def __init__(self,id,name):\n",
    "        self.id = id\n",
    "        self.name = name\n",
    "        self.followers = 0\n",
    "        self.following = 0\n",
    "        \n",
    "    def follow(self,user:User):\n",
    "        self.following += 1\n",
    "        user.followers += 1"
   ]
  },
  {
   "cell_type": "code",
   "execution_count": 36,
   "id": "e0c69ca4-3ba9-47d5-bf43-d842814de136",
   "metadata": {},
   "outputs": [
    {
     "name": "stdout",
     "output_type": "stream",
     "text": [
      "0 0\n",
      "ok\n",
      "1 1\n"
     ]
    }
   ],
   "source": [
    "user_1 = User(1,\"Ram\")\n",
    "user_2 = User(2,\"Sam\")\n",
    "user_2.follow(user_1)\n",
    "print(user_1.followers, user_2.following)"
   ]
  },
  {
   "cell_type": "code",
   "execution_count": null,
   "id": "1846ebe3-382d-4a8c-952b-9e37114eec78",
   "metadata": {},
   "outputs": [],
   "source": []
  },
  {
   "cell_type": "code",
   "execution_count": null,
   "id": "53eb8e99-7372-4f93-afeb-9d50f7c38bbb",
   "metadata": {},
   "outputs": [],
   "source": []
  }
 ],
 "metadata": {
  "kernelspec": {
   "display_name": "Python 3 (ipykernel)",
   "language": "python",
   "name": "python3"
  },
  "language_info": {
   "codemirror_mode": {
    "name": "ipython",
    "version": 3
   },
   "file_extension": ".py",
   "mimetype": "text/x-python",
   "name": "python",
   "nbconvert_exporter": "python",
   "pygments_lexer": "ipython3",
   "version": "3.10.12"
  }
 },
 "nbformat": 4,
 "nbformat_minor": 5
}
