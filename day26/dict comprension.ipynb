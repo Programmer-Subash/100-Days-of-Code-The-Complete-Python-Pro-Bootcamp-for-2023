{
 "cells": [
  {
   "cell_type": "raw",
   "id": "23886db1-0662-475e-bd59-960b385932c2",
   "metadata": {},
   "source": [
    "Just for programming purpose"
   ]
  },
  {
   "cell_type": "code",
   "execution_count": 2,
   "id": "582bcd8d-7fce-488f-a18f-d6e491f42c17",
   "metadata": {},
   "outputs": [],
   "source": [
    "import random"
   ]
  },
  {
   "cell_type": "code",
   "execution_count": 8,
   "id": "ba5e79dd-558b-4788-94f4-7464fe96f7cd",
   "metadata": {},
   "outputs": [
    {
     "name": "stdout",
     "output_type": "stream",
     "text": [
      "{'Charles Babbage': 7, 'Brendan Eich': 8, 'Tim Berners-Lee ': 2, 'Linus Torvalds': 2, 'Brian Kernighan': 10, 'Ryan Dahl': 10, 'Bjarne Stroustrup': 9, 'Donald Knuth': 6, 'Dennis Ritchie': 6, 'James Gosling': 3}\n"
     ]
    }
   ],
   "source": [
    "best_programmer = [\"Charles Babbage\",\"Brendan Eich\",\"Tim Berners-Lee \",\"Linus Torvalds\",\"Brian Kernighan\",\"Ryan Dahl\",\"Bjarne Stroustrup\",\"Donald Knuth\",\"Dennis Ritchie\",\"James Gosling\"]\n",
    "# best_programmer_score = {f\"profile{i}\":{\"name\":name,\"score\":random.randint(1,10)} for i,name in enumerate(best_programmer)}\n",
    "best_programmer_score = {name:random.randint(1,10) for name in best_programmer}\n",
    "print(best_programmer_score)"
   ]
  },
  {
   "cell_type": "code",
   "execution_count": 9,
   "id": "7611c351-f27d-4a8c-833c-7f27f961eeb2",
   "metadata": {},
   "outputs": [
    {
     "name": "stdout",
     "output_type": "stream",
     "text": [
      "{'Charles Babbage': 7, 'Brendan Eich': 8, 'Brian Kernighan': 10, 'Ryan Dahl': 10, 'Bjarne Stroustrup': 9, 'Donald Knuth': 6, 'Dennis Ritchie': 6}\n"
     ]
    }
   ],
   "source": [
    "best_of_best_programmer_score = {key:value for key,value in best_programmer_score.items() if value > 5}\n",
    "print(best_of_best_programmer_score)"
   ]
  },
  {
   "cell_type": "raw",
   "id": "c0fd44be-e58c-4aaa-a007-21247d651e1b",
   "metadata": {},
   "source": [
    "Coding Exercise 1"
   ]
  },
  {
   "cell_type": "code",
   "execution_count": 11,
   "id": "3f7be32f-9219-4357-bf6c-a7bf4416b037",
   "metadata": {},
   "outputs": [
    {
     "name": "stdout",
     "output_type": "stream",
     "text": [
      "{'What': 4, 'is': 2, 'the': 3, 'Airspeed': 8, 'Velocity': 8, 'of': 2, 'an': 2, 'Unladen': 7, 'Swallow?': 8}\n"
     ]
    }
   ],
   "source": [
    "sentence = \"What is the Airspeed Velocity of an Unladen Swallow?\"\n",
    "result = {word:len(word) for word in sentence.split(\" \")}\n",
    "print(result)"
   ]
  },
  {
   "cell_type": "raw",
   "id": "ac5e1e45-b269-434d-8bb3-d6b0765aa3ca",
   "metadata": {},
   "source": [
    "Coding Exercise 2"
   ]
  },
  {
   "cell_type": "code",
   "execution_count": 16,
   "id": "4efe2f76-c018-4d24-95f5-747a121168eb",
   "metadata": {},
   "outputs": [
    {
     "name": "stdout",
     "output_type": "stream",
     "text": [
      "{'Monday': 53.6, 'Tuesday': 57.2, 'Wednesday': 59.0, 'Thursday': 57.2, 'Friday': 69.80000000000001, 'Saturday': 71.6, 'Sunday': 75.2}\n"
     ]
    }
   ],
   "source": [
    "weather_c = {\n",
    "    \"Monday\": 12,\n",
    "    \"Tuesday\": 14,\n",
    "    \"Wednesday\": 15,\n",
    "    \"Thursday\": 14,\n",
    "    \"Friday\": 21,\n",
    "    \"Saturday\": 22,\n",
    "    \"Sunday\": 24,\n",
    "}\n",
    "\n",
    "def convert_c_to_f(c):\n",
    "    return (c * (9/5))+32\n",
    "\n",
    "weather_f = {key:(value * (9/5))+32 for key,value in weather_c.items()}\n",
    "# weather_f = {key:convert_c_to_f(value) for key,value in weather_c.items()}\n",
    "\n",
    "print(weather_f)"
   ]
  },
  {
   "cell_type": "code",
   "execution_count": null,
   "id": "6efa52d5-7992-49a6-94ce-4f43462d1424",
   "metadata": {},
   "outputs": [],
   "source": []
  },
  {
   "cell_type": "code",
   "execution_count": 18,
   "id": "6666fa31-2384-4c1d-b5ad-e0decfa8884d",
   "metadata": {},
   "outputs": [
    {
     "name": "stdout",
     "output_type": "stream",
     "text": [
      "22.5\n"
     ]
    }
   ],
   "source": []
  },
  {
   "cell_type": "code",
   "execution_count": null,
   "id": "74e7db1b-68a6-491d-8f0a-1515bc5fd763",
   "metadata": {},
   "outputs": [],
   "source": []
  }
 ],
 "metadata": {
  "kernelspec": {
   "display_name": "Python 3 (ipykernel)",
   "language": "python",
   "name": "python3"
  },
  "language_info": {
   "codemirror_mode": {
    "name": "ipython",
    "version": 3
   },
   "file_extension": ".py",
   "mimetype": "text/x-python",
   "name": "python",
   "nbconvert_exporter": "python",
   "pygments_lexer": "ipython3",
   "version": "3.10.12"
  }
 },
 "nbformat": 4,
 "nbformat_minor": 5
}
