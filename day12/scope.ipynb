{
 "cells": [
  {
   "cell_type": "raw",
   "id": "61fd9785-e823-4b1b-9d72-72f58fcb0589",
   "metadata": {},
   "source": [
    "Local Scope vs Global Scope"
   ]
  },
  {
   "cell_type": "raw",
   "id": "a0c87ba0-549b-4733-808d-dd462f2619f0",
   "metadata": {},
   "source": [
    "Local Scope -> inside function or lambda expression"
   ]
  },
  {
   "cell_type": "code",
   "execution_count": 1,
   "id": "1b0f5f99-3c75-4745-8a35-4ed41bb7267b",
   "metadata": {},
   "outputs": [
    {
     "name": "stdout",
     "output_type": "stream",
     "text": [
      "The number of enemies is 2\n",
      "The number of enemies is 1\n"
     ]
    }
   ],
   "source": [
    "enemies = 1 #global scope\n",
    "def increase_enemies():\n",
    "    enemies = 2 # local scope\n",
    "    print(f\"The number of enemies is {enemies}\")\n",
    "increase_enemies()\n",
    "print(f\"The number of enemies is {enemies}\")"
   ]
  },
  {
   "cell_type": "raw",
   "id": "3c6fd05a-2908-4139-aa7e-2fabfd27b6ba",
   "metadata": {},
   "source": [
    "Python doesn't have block scope"
   ]
  },
  {
   "cell_type": "raw",
   "id": "d628cc74-8ee9-4f91-b401-de1035ff5d86",
   "metadata": {},
   "source": [
    "Here greater_number is access outside condition block which mean Python doesn't have block scope."
   ]
  },
  {
   "cell_type": "code",
   "execution_count": 2,
   "id": "79ee056e-3b40-48a1-abf8-d89a71b1aef5",
   "metadata": {},
   "outputs": [
    {
     "name": "stdout",
     "output_type": "stream",
     "text": [
      "The greater number is 20\n"
     ]
    }
   ],
   "source": [
    "num = 20\n",
    "if num > 10:\n",
    "    greater_number = num\n",
    "print(f\"The greater number is {greater_number}\")"
   ]
  },
  {
   "cell_type": "markdown",
   "id": "b4819996-c1ca-4f74-8d5a-5e24f3cbed25",
   "metadata": {},
   "source": [
    "How to use global scope inside lobal scope"
   ]
  },
  {
   "cell_type": "code",
   "execution_count": 5,
   "id": "c45bc9af-b3bc-450a-8580-2e02217835a3",
   "metadata": {},
   "outputs": [
    {
     "name": "stdout",
     "output_type": "stream",
     "text": [
      "The number of enemies is 2\n",
      "The number of enemies is 2\n"
     ]
    }
   ],
   "source": [
    "enemies = 1 #global scope\n",
    "def increase_enemies():\n",
    "    global enemies\n",
    "    enemies += 1\n",
    "    print(f\"The number of enemies is {enemies}\")\n",
    "increase_enemies()\n",
    "print(f\"The number of enemies is {enemies}\")"
   ]
  },
  {
   "cell_type": "raw",
   "id": "ee291cf2-525f-49c2-b286-893d00528e51",
   "metadata": {},
   "source": [
    "Suggession: Don't use global variable "
   ]
  },
  {
   "cell_type": "code",
   "execution_count": 6,
   "id": "17b7d81f-bb67-4fe3-b0c4-6cb6cdba7b9a",
   "metadata": {},
   "outputs": [
    {
     "name": "stdout",
     "output_type": "stream",
     "text": [
      "The number of enemies is 2\n"
     ]
    }
   ],
   "source": [
    "enemies = 1\n",
    "def increase_enemies(number):\n",
    "    return number + 1\n",
    "enemies = increase_enemies(enemies)\n",
    "print(f\"The number of enemies is {enemies}\")"
   ]
  },
  {
   "cell_type": "raw",
   "id": "b9292c9c-db65-4905-85c3-f4a09711705b",
   "metadata": {},
   "source": [
    "Only use gloabl constant"
   ]
  },
  {
   "cell_type": "code",
   "execution_count": 8,
   "id": "15c0ec62-d8e1-4922-9df1-a90fe0efd71b",
   "metadata": {},
   "outputs": [],
   "source": [
    "PI = 3.14159265359"
   ]
  }
 ],
 "metadata": {
  "kernelspec": {
   "display_name": "Python 3 (ipykernel)",
   "language": "python",
   "name": "python3"
  },
  "language_info": {
   "codemirror_mode": {
    "name": "ipython",
    "version": 3
   },
   "file_extension": ".py",
   "mimetype": "text/x-python",
   "name": "python",
   "nbconvert_exporter": "python",
   "pygments_lexer": "ipython3",
   "version": "3.10.12"
  }
 },
 "nbformat": 4,
 "nbformat_minor": 5
}
