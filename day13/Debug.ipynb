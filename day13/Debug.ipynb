{
 "cells": [
  {
   "cell_type": "raw",
   "id": "106d6323-1f70-4dab-af70-334c2bac5586",
   "metadata": {},
   "source": [
    "1.Define a problem\n",
    "2.Reproduce bug\n",
    "3.Play with computer\n",
    "4.Print is your friend\n",
    "5.Use debugger\n",
    "6.Take a break\n",
    "6.Run often"
   ]
  }
 ],
 "metadata": {
  "kernelspec": {
   "display_name": "Python 3 (ipykernel)",
   "language": "python",
   "name": "python3"
  },
  "language_info": {
   "codemirror_mode": {
    "name": "ipython",
    "version": 3
   },
   "file_extension": ".py",
   "mimetype": "text/x-python",
   "name": "python",
   "nbconvert_exporter": "python",
   "pygments_lexer": "ipython3",
   "version": "3.10.12"
  }
 },
 "nbformat": 4,
 "nbformat_minor": 5
}
